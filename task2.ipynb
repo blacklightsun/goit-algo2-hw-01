{
 "cells": [
  {
   "cell_type": "code",
   "execution_count": 1,
   "id": "6d80f0a9",
   "metadata": {},
   "outputs": [],
   "source": [
    "# підключення потрібних модулей\n",
    "\n",
    "# import numpy as np\n",
    "# import pandas as pd\n",
    "# import matplotlib.pyplot as plt\n",
    "# import seaborn as sns\n",
    "# from tqdm import tqdm\n",
    "# from pathlib import Path\n",
    "# import shutil\n",
    "# from pprint import pprint\n",
    "\n",
    "# параметри виведення\n",
    "# pd.set_option(\"display.max_columns\", 500) # кількість колонок\n",
    "# pd.set_option(\"display.max_rows\", 1000) # кількість рядків\n",
    "# pd.set_option(\"display.max_colwidth\", 300) # ширина колонок\n",
    "# pd.set_option(\"display.precision\", 5) # кількість знаків після коми\n",
    "\n",
    "# вимикаємо зайві попередження\n",
    "import warnings\n",
    "warnings.filterwarnings(\"ignore\")\n",
    "\n",
    "# друк всіх результатів в одній комірці а не тільки останнього\n",
    "from IPython.core.interactiveshell import InteractiveShell\n",
    "InteractiveShell.ast_node_interactivity = \"all\"\n",
    "\n",
    "# магічний метод для того щоб отримувати графіки біля комірок з кодом\n",
    "# %matplotlib inline"
   ]
  },
  {
   "cell_type": "code",
   "execution_count": null,
   "id": "113c8b74",
   "metadata": {},
   "outputs": [],
   "source": [
    "def quickselect(arr, k):\n",
    "    '''Рекурсивна функція для вибору k-го порядкового мінімального значення з масиву'''\n",
    "    pivot = arr[-1]  # вибір останнього елемента як pivot\n",
    "    lows = [x for x in arr if x < pivot]\n",
    "    highs = [x for x in arr if x > pivot]\n",
    "    pivots = [x for x in arr if x == pivot]\n",
    "    print(f'lows: {lows}, pivots: {pivots}, highs: {highs}')\n",
    "\n",
    "    if k < len(lows):\n",
    "        return quickselect(lows, k)\n",
    "    elif k < len(lows) + len(pivots):\n",
    "        return pivots[0]\n",
    "    else:\n",
    "        return quickselect(highs, k - len(lows) - len(pivots))"
   ]
  },
  {
   "cell_type": "code",
   "execution_count": 17,
   "id": "d033dbb3",
   "metadata": {},
   "outputs": [
    {
     "name": "stdout",
     "output_type": "stream",
     "text": [
      "Array for searching: [7, 10, 4, 3, 20, 15]\n",
      "lows: [7, 10, 4, 3], pivots: [15], highs: [20]\n",
      "lows: [], pivots: [3], highs: [7, 10, 4]\n",
      "lows: [], pivots: [4], highs: [7, 10]\n",
      "lows: [7], pivots: [10], highs: []\n",
      "lows: [], pivots: [7], highs: []\n",
      "3th most minimal value: 7\n"
     ]
    }
   ],
   "source": [
    "# приклад використання\n",
    "arr = [7, 10, 4, 3, 20, 15]\n",
    "k = 3\n",
    "\n",
    "print(f'Array for searching: {arr}')\n",
    "print(f'{k}th most minimal value: {quickselect(arr, k-1)}') # Выводит 7 (3-й наименьший элемент)"
   ]
  }
 ],
 "metadata": {
  "kernelspec": {
   "display_name": "ds_env",
   "language": "python",
   "name": "python3"
  },
  "language_info": {
   "codemirror_mode": {
    "name": "ipython",
    "version": 3
   },
   "file_extension": ".py",
   "mimetype": "text/x-python",
   "name": "python",
   "nbconvert_exporter": "python",
   "pygments_lexer": "ipython3",
   "version": "3.13.1"
  }
 },
 "nbformat": 4,
 "nbformat_minor": 5
}
